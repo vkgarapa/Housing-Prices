{
 "cells": [
  {
   "cell_type": "code",
   "execution_count": 1,
   "metadata": {
    "collapsed": true
   },
   "outputs": [],
   "source": [
    "import pandas as pd\n",
    "from pandas import Series\n",
    "import numpy as np\n",
    "import seaborn as sns\n",
    "import matplotlib.pyplot as plt\n",
    "from scipy import stats\n",
    "%matplotlib inline"
   ]
  },
  {
   "cell_type": "code",
   "execution_count": 2,
   "metadata": {},
   "outputs": [
    {
     "name": "stdout",
     "output_type": "stream",
     "text": [
      "(1460, 81) (1459, 80)\n"
     ]
    }
   ],
   "source": [
    "df1 = pd.read_csv('C:\\\\Users\\\\gteja\\\\Desktop\\\\train_1.csv')\n",
    "df2 = pd.read_csv('C:\\\\Users\\\\gteja\\\\Desktop\\\\test.csv')\n",
    "print(df1.shape,df2.shape)"
   ]
  },
  {
   "cell_type": "code",
   "execution_count": 3,
   "metadata": {},
   "outputs": [
    {
     "data": {
      "image/png": "[encoded data removed]",
      "text/plain": [
       "<matplotlib.figure.Figure at 0x121c64b7898>"
      ]
     },
     "metadata": {},
     "output_type": "display_data"
    },
    {
     "name": "stdout",
     "output_type": "stream",
     "text": [
      "\n",
      "\n",
      "\n",
      "\n",
      " 755000\n"
     ]
    }
   ],
   "source": [
    "plt.figure(figsize=(10,5))\n",
    "sns.boxplot(df1.SalePrice)\n",
    "plt.show()\n",
    "print('\\n'*4, df1.SalePrice.max())"
   ]
  },
  {
   "cell_type": "code",
   "execution_count": 4,
   "metadata": {},
   "outputs": [
    {
     "data": {
      "text/html": [
       "<div>\n",
       "<style>\n",
       "    .dataframe thead tr:only-child th {\n",
       "        text-align: right;\n",
       "    }\n",
       "\n",
       "    .dataframe thead th {\n",
       "        text-align: left;\n",
       "    }\n",
       "\n",
       "    .dataframe tbody tr th {\n",
       "        vertical-align: top;\n",
       "    }\n",
       "</style>\n",
       "<table border=\"1\" class=\"dataframe\">\n",
       "  <thead>\n",
       "    <tr style=\"text-align: right;\">\n",
       "      <th></th>\n",
       "      <th>Id</th>\n",
       "      <th>MSSubClass</th>\n",
       "      <th>MSZoning</th>\n",
       "      <th>LotFrontage</th>\n",
       "      <th>LotArea</th>\n",
       "      <th>Street</th>\n",
       "      <th>Alley</th>\n",
       "      <th>LotShape</th>\n",
       "      <th>LandContour</th>\n",
       "      <th>Utilities</th>\n",
       "      <th>...</th>\n",
       "      <th>PoolArea</th>\n",
       "      <th>PoolQC</th>\n",
       "      <th>Fence</th>\n",
       "      <th>MiscFeature</th>\n",
       "      <th>MiscVal</th>\n",
       "      <th>MoSold</th>\n",
       "      <th>YrSold</th>\n",
       "      <th>SaleType</th>\n",
       "      <th>SaleCondition</th>\n",
       "      <th>SalePrice</th>\n",
       "    </tr>\n",
       "  </thead>\n",
       "  <tbody>\n",
       "    <tr>\n",
       "      <th>691</th>\n",
       "      <td>692</td>\n",
       "      <td>60</td>\n",
       "      <td>RL</td>\n",
       "      <td>104.0</td>\n",
       "      <td>21535</td>\n",
       "      <td>Pave</td>\n",
       "      <td>NaN</td>\n",
       "      <td>IR1</td>\n",
       "      <td>Lvl</td>\n",
       "      <td>AllPub</td>\n",
       "      <td>...</td>\n",
       "      <td>0</td>\n",
       "      <td>NaN</td>\n",
       "      <td>NaN</td>\n",
       "      <td>NaN</td>\n",
       "      <td>0</td>\n",
       "      <td>1</td>\n",
       "      <td>2007</td>\n",
       "      <td>WD</td>\n",
       "      <td>Normal</td>\n",
       "      <td>755000</td>\n",
       "    </tr>\n",
       "  </tbody>\n",
       "</table>\n",
       "<p>1 rows × 81 columns</p>\n",
       "</div>"
      ],
      "text/plain": [
       "      Id  MSSubClass MSZoning  LotFrontage  LotArea Street Alley LotShape  \\\n",
       "691  692          60       RL        104.0    21535   Pave   NaN      IR1   \n",
       "\n",
       "    LandContour Utilities    ...     PoolArea PoolQC Fence MiscFeature  \\\n",
       "691         Lvl    AllPub    ...            0    NaN   NaN         NaN   \n",
       "\n",
       "    MiscVal MoSold YrSold  SaleType  SaleCondition  SalePrice  \n",
       "691       0      1   2007        WD         Normal     755000  \n",
       "\n",
       "[1 rows x 81 columns]"
      ]
     },
     "execution_count": 4,
     "metadata": {},
     "output_type": "execute_result"
    }
   ],
   "source": [
    "df1.loc[df1.SalePrice == 755000]"
   ]
  },
  {
   "cell_type": "code",
   "execution_count": 5,
   "metadata": {},
   "outputs": [],
   "source": [
    "df1 = df1.drop(df1.index[691])"
   ]
  },
  {
   "cell_type": "code",
   "execution_count": 6,
   "metadata": {
    "collapsed": true
   },
   "outputs": [],
   "source": [
    "#Train Data\n",
    "Categorical_var_train = df1.select_dtypes(include=['object']).copy()\n",
    "Numerical_var_train = df1.select_dtypes(include=['int64']).copy()\n",
    "Float_var_train = df1.select_dtypes(include=['float64']).copy()\n",
    "\n",
    "#Test Data\n",
    "Categorical_var_test = df2.select_dtypes(include=['object']).copy()\n",
    "Numerical_var_test = df2.select_dtypes(include=['int64']).copy()\n",
    "Float_var_test = df2.select_dtypes(include=['float64']).copy()"
   ]
  },
  {
   "cell_type": "code",
   "execution_count": 7,
   "metadata": {
    "collapsed": true
   },
   "outputs": [],
   "source": [
    "# Combine Numerical and Floating objects horizontally along the x axis by passing in axis=1.\n",
    "\n",
    "#Train Data\n",
    "Num_var_train = pd.concat([Numerical_var_train,Float_var_train], axis=1)\n",
    "Num_var_train = np.log1p(Num_var_train)\n",
    "\n",
    "#Test Data\n",
    "Num_var_test = pd.concat([Numerical_var_test,Float_var_test], axis=1)\n",
    "Num_var_test = np.log1p(Num_var_test)"
   ]
  },
  {
   "cell_type": "code",
   "execution_count": 8,
   "metadata": {},
   "outputs": [
    {
     "name": "stdout",
     "output_type": "stream",
     "text": [
      "(1459, 38) (1459, 37)\n"
     ]
    }
   ],
   "source": [
    "print(Num_var_train.shape,Num_var_test.shape)"
   ]
  },
  {
   "cell_type": "code",
   "execution_count": 9,
   "metadata": {},
   "outputs": [
    {
     "data": {
      "text/plain": [
       "Index(['Id', 'MSSubClass', 'LotArea', 'OverallQual', 'OverallCond',\n",
       "       'YearBuilt', 'YearRemodAdd', 'BsmtFinSF1', 'BsmtFinSF2', 'BsmtUnfSF',\n",
       "       'TotalBsmtSF', '1stFlrSF', '2ndFlrSF', 'LowQualFinSF', 'GrLivArea',\n",
       "       'BsmtFullBath', 'BsmtHalfBath', 'FullBath', 'HalfBath', 'BedroomAbvGr',\n",
       "       'KitchenAbvGr', 'TotRmsAbvGrd', 'Fireplaces', 'GarageCars',\n",
       "       'GarageArea', 'WoodDeckSF', 'OpenPorchSF', 'EnclosedPorch', '3SsnPorch',\n",
       "       'ScreenPorch', 'PoolArea', 'MiscVal', 'MoSold', 'YrSold', 'SalePrice',\n",
       "       'LotFrontage', 'MasVnrArea', 'GarageYrBlt'],\n",
       "      dtype='object')"
      ]
     },
     "execution_count": 9,
     "metadata": {},
     "output_type": "execute_result"
    }
   ],
   "source": [
    "Num_var_train.columns"
   ]
  },
  {
   "cell_type": "code",
   "execution_count": 10,
   "metadata": {
    "collapsed": true
   },
   "outputs": [],
   "source": [
    "#Checking Missing values and the columns that have numerical value but belong to categorical features\n",
    "\n",
    "# In this case a value zero was given indicating that the column did not have that feature \n",
    "\n",
    "#Train Data\n",
    "Num_var_train.isnull().any()\n",
    "Num_var_train = Num_var_train.fillna(0)\n",
    "Num_var_train = Num_var_train.drop(['Id','MSSubClass','OverallQual','OverallCond','SalePrice','MoSold'],axis=1)\n",
    "\n",
    "#Test Data\n",
    "\n",
    "Num_var_test.isnull().any()\n",
    "Num_var_test = Num_var_test.fillna(0)\n",
    "Num_var_test = Num_var_test.drop(['Id','MSSubClass','OverallQual','OverallCond','MoSold'],axis=1)"
   ]
  },
  {
   "cell_type": "code",
   "execution_count": 11,
   "metadata": {},
   "outputs": [
    {
     "name": "stdout",
     "output_type": "stream",
     "text": [
      "(1459, 32) (1459, 32)\n"
     ]
    }
   ],
   "source": [
    "print(Num_var_train.shape,Num_var_test.shape)"
   ]
  },
  {
   "cell_type": "code",
   "execution_count": 12,
   "metadata": {
    "collapsed": true
   },
   "outputs": [],
   "source": [
    "#Checking for Multicollinearity\n",
    "#from statsmodels.stats.outliers_influence import variance_inflation_factor\n",
    "#vif = pd.DataFrame()\n",
    "#vif['VIF Factor'] = [variance_inflation_factor(X.values, i) for i in range(X.shape[1])]\n",
    "#vif['features'] = X.columns\n",
    "#vif.round(1)"
   ]
  },
  {
   "cell_type": "code",
   "execution_count": 13,
   "metadata": {},
   "outputs": [
    {
     "name": "stdout",
     "output_type": "stream",
     "text": [
      "\n",
      "\n",
      " (1459, 46) (1459, 46)\n"
     ]
    }
   ],
   "source": [
    "#Concatening the columns from the numeric data (that had categorical features) to the Categorical data.\n",
    "\n",
    "#Train Data\n",
    "d5 = df1[['MSSubClass','OverallQual','OverallCond']]\n",
    "Catg_var_train = pd.concat([Categorical_var_train,d5], axis=1)\n",
    "d6 = pd.DataFrame(Catg_var_train) \n",
    "d6.head(5)\n",
    "\n",
    "#Test Data\n",
    "d5_1 = df2[['MSSubClass','OverallQual','OverallCond']]\n",
    "Catg_var_test = pd.concat([Categorical_var_test,d5_1], axis=1)\n",
    "d7 = pd.DataFrame(Catg_var_test)\n",
    "d7.head(5)\n",
    "print('\\n'*2, d6.shape,d7.shape)"
   ]
  },
  {
   "cell_type": "code",
   "execution_count": 14,
   "metadata": {},
   "outputs": [
    {
     "data": {
      "text/plain": [
       "Index(['MSZoning', 'Street', 'Alley', 'LotShape', 'LandContour', 'Utilities',\n",
       "       'LotConfig', 'LandSlope', 'Neighborhood', 'Condition1', 'Condition2',\n",
       "       'BldgType', 'HouseStyle', 'RoofStyle', 'RoofMatl', 'Exterior1st',\n",
       "       'Exterior2nd', 'MasVnrType', 'ExterQual', 'ExterCond', 'Foundation',\n",
       "       'BsmtQual', 'BsmtCond', 'BsmtExposure', 'BsmtFinType1', 'BsmtFinType2',\n",
       "       'Heating', 'HeatingQC', 'CentralAir', 'Electrical', 'KitchenQual',\n",
       "       'Functional', 'FireplaceQu', 'GarageType', 'GarageFinish', 'GarageQual',\n",
       "       'GarageCond', 'PavedDrive', 'PoolQC', 'Fence', 'MiscFeature',\n",
       "       'SaleType', 'SaleCondition', 'MSSubClass', 'OverallQual',\n",
       "       'OverallCond'],\n",
       "      dtype='object')"
      ]
     },
     "execution_count": 14,
     "metadata": {},
     "output_type": "execute_result"
    }
   ],
   "source": [
    "d6.columns"
   ]
  },
  {
   "cell_type": "code",
   "execution_count": 15,
   "metadata": {
    "collapsed": true
   },
   "outputs": [],
   "source": [
    "#d6.isnull().any()"
   ]
  },
  {
   "cell_type": "code",
   "execution_count": 16,
   "metadata": {
    "collapsed": true
   },
   "outputs": [],
   "source": [
    "#Filling the missing values based on the Data Description of the Columns\n",
    "\n",
    "#Train Data\n",
    "d6.Alley = d6.Alley.fillna('No')\n",
    "d6.MasVnrType = d6.MasVnrType.fillna('None')\n",
    "d6.BsmtQual = d6.BsmtQual.fillna('No Basement')\n",
    "d6.BsmtCond = d6.BsmtCond.fillna('No Basement')\n",
    "d6.BsmtExposure = d6.BsmtExposure.fillna('No Basement')\n",
    "d6.BsmtFinType1 = d6.BsmtFinType1.fillna('No Basement')\n",
    "d6.BsmtFinType2 = d6.BsmtFinType2.fillna('No Basement')\n",
    "d6.Electrical = d6.Electrical.fillna('Missin data')\n",
    "d6.FireplaceQu = d6.FireplaceQu.fillna('No Fireplace')\n",
    "d6.GarageType = d6.GarageType.fillna('No Garage')\n",
    "d6.GarageFinish = d6.GarageFinish.fillna('No Garage')\n",
    "d6.GarageQual = d6.GarageQual.fillna('No Garage')\n",
    "d6.GarageCond = d6.GarageCond.fillna('No Garage')\n",
    "d6.PoolQC = d6.PoolQC.fillna('No Pool')\n",
    "d6.Fence = d6.Fence.fillna('no Fence')\n",
    "d6.MiscFeature = d6.MiscFeature.fillna('None')\n",
    "\n",
    "#Test Data\n",
    "d7.Alley = d7.Alley.fillna('No')\n",
    "d7.MasVnrType = d7.MasVnrType.fillna('None')\n",
    "d7.BsmtQual = d7.BsmtQual.fillna('No Basement')\n",
    "d7.BsmtCond = d7.BsmtCond.fillna('No Basement')\n",
    "d7.BsmtExposure = d7.BsmtExposure.fillna('No Basement')\n",
    "d7.BsmtFinType1 = d7.BsmtFinType1.fillna('No Basement')\n",
    "d7.BsmtFinType2 = d7.BsmtFinType2.fillna('No Basement')\n",
    "d7.Electrical = d7.Electrical.fillna('Missin data')\n",
    "d7.FireplaceQu = d7.FireplaceQu.fillna('No Fireplace')\n",
    "d7.GarageType = d7.GarageType.fillna('No Garage')\n",
    "d7.GarageFinish = d7.GarageFinish.fillna('No Garage')\n",
    "d7.GarageQual = d7.GarageQual.fillna('No Garage')\n",
    "d7.GarageCond = d7.GarageCond.fillna('No Garage')\n",
    "d7.PoolQC = d7.PoolQC.fillna('No Pool')\n",
    "d7.Fence = d7.Fence.fillna('no Fence')\n",
    "d7.MiscFeature = d7.MiscFeature.fillna('None')"
   ]
  },
  {
   "cell_type": "code",
   "execution_count": 17,
   "metadata": {},
   "outputs": [
    {
     "data": {
      "text/html": [
       "<div>\n",
       "<style>\n",
       "    .dataframe thead tr:only-child th {\n",
       "        text-align: right;\n",
       "    }\n",
       "\n",
       "    .dataframe thead th {\n",
       "        text-align: left;\n",
       "    }\n",
       "\n",
       "    .dataframe tbody tr th {\n",
       "        vertical-align: top;\n",
       "    }\n",
       "</style>\n",
       "<table border=\"1\" class=\"dataframe\">\n",
       "  <thead>\n",
       "    <tr style=\"text-align: right;\">\n",
       "      <th></th>\n",
       "      <th>MSZoning</th>\n",
       "      <th>Street</th>\n",
       "      <th>Alley</th>\n",
       "      <th>LotShape</th>\n",
       "      <th>LandContour</th>\n",
       "      <th>Utilities</th>\n",
       "      <th>LotConfig</th>\n",
       "      <th>LandSlope</th>\n",
       "      <th>Neighborhood</th>\n",
       "      <th>Condition1</th>\n",
       "      <th>...</th>\n",
       "      <th>GarageCond</th>\n",
       "      <th>PavedDrive</th>\n",
       "      <th>PoolQC</th>\n",
       "      <th>Fence</th>\n",
       "      <th>MiscFeature</th>\n",
       "      <th>SaleType</th>\n",
       "      <th>SaleCondition</th>\n",
       "      <th>MSSubClass</th>\n",
       "      <th>OverallQual</th>\n",
       "      <th>OverallCond</th>\n",
       "    </tr>\n",
       "  </thead>\n",
       "  <tbody>\n",
       "    <tr>\n",
       "      <th>0</th>\n",
       "      <td>RL</td>\n",
       "      <td>Pave</td>\n",
       "      <td>No</td>\n",
       "      <td>Reg</td>\n",
       "      <td>Lvl</td>\n",
       "      <td>AllPub</td>\n",
       "      <td>Inside</td>\n",
       "      <td>Gtl</td>\n",
       "      <td>CollgCr</td>\n",
       "      <td>Norm</td>\n",
       "      <td>...</td>\n",
       "      <td>TA</td>\n",
       "      <td>Y</td>\n",
       "      <td>No Pool</td>\n",
       "      <td>no Fence</td>\n",
       "      <td>None</td>\n",
       "      <td>WD</td>\n",
       "      <td>Normal</td>\n",
       "      <td>60</td>\n",
       "      <td>7</td>\n",
       "      <td>5</td>\n",
       "    </tr>\n",
       "    <tr>\n",
       "      <th>1</th>\n",
       "      <td>RL</td>\n",
       "      <td>Pave</td>\n",
       "      <td>No</td>\n",
       "      <td>Reg</td>\n",
       "      <td>Lvl</td>\n",
       "      <td>AllPub</td>\n",
       "      <td>FR2</td>\n",
       "      <td>Gtl</td>\n",
       "      <td>Veenker</td>\n",
       "      <td>Feedr</td>\n",
       "      <td>...</td>\n",
       "      <td>TA</td>\n",
       "      <td>Y</td>\n",
       "      <td>No Pool</td>\n",
       "      <td>no Fence</td>\n",
       "      <td>None</td>\n",
       "      <td>WD</td>\n",
       "      <td>Normal</td>\n",
       "      <td>20</td>\n",
       "      <td>6</td>\n",
       "      <td>8</td>\n",
       "    </tr>\n",
       "    <tr>\n",
       "      <th>2</th>\n",
       "      <td>RL</td>\n",
       "      <td>Pave</td>\n",
       "      <td>No</td>\n",
       "      <td>IR1</td>\n",
       "      <td>Lvl</td>\n",
       "      <td>AllPub</td>\n",
       "      <td>Inside</td>\n",
       "      <td>Gtl</td>\n",
       "      <td>CollgCr</td>\n",
       "      <td>Norm</td>\n",
       "      <td>...</td>\n",
       "      <td>TA</td>\n",
       "      <td>Y</td>\n",
       "      <td>No Pool</td>\n",
       "      <td>no Fence</td>\n",
       "      <td>None</td>\n",
       "      <td>WD</td>\n",
       "      <td>Normal</td>\n",
       "      <td>60</td>\n",
       "      <td>7</td>\n",
       "      <td>5</td>\n",
       "    </tr>\n",
       "    <tr>\n",
       "      <th>3</th>\n",
       "      <td>RL</td>\n",
       "      <td>Pave</td>\n",
       "      <td>No</td>\n",
       "      <td>IR1</td>\n",
       "      <td>Lvl</td>\n",
       "      <td>AllPub</td>\n",
       "      <td>Corner</td>\n",
       "      <td>Gtl</td>\n",
       "      <td>Crawfor</td>\n",
       "      <td>Norm</td>\n",
       "      <td>...</td>\n",
       "      <td>TA</td>\n",
       "      <td>Y</td>\n",
       "      <td>No Pool</td>\n",
       "      <td>no Fence</td>\n",
       "      <td>None</td>\n",
       "      <td>WD</td>\n",
       "      <td>Abnorml</td>\n",
       "      <td>70</td>\n",
       "      <td>7</td>\n",
       "      <td>5</td>\n",
       "    </tr>\n",
       "    <tr>\n",
       "      <th>4</th>\n",
       "      <td>RL</td>\n",
       "      <td>Pave</td>\n",
       "      <td>No</td>\n",
       "      <td>IR1</td>\n",
       "      <td>Lvl</td>\n",
       "      <td>AllPub</td>\n",
       "      <td>FR2</td>\n",
       "      <td>Gtl</td>\n",
       "      <td>NoRidge</td>\n",
       "      <td>Norm</td>\n",
       "      <td>...</td>\n",
       "      <td>TA</td>\n",
       "      <td>Y</td>\n",
       "      <td>No Pool</td>\n",
       "      <td>no Fence</td>\n",
       "      <td>None</td>\n",
       "      <td>WD</td>\n",
       "      <td>Normal</td>\n",
       "      <td>60</td>\n",
       "      <td>8</td>\n",
       "      <td>5</td>\n",
       "    </tr>\n",
       "  </tbody>\n",
       "</table>\n",
       "<p>5 rows × 46 columns</p>\n",
       "</div>"
      ],
      "text/plain": [
       "  MSZoning Street Alley LotShape LandContour Utilities LotConfig LandSlope  \\\n",
       "0       RL   Pave    No      Reg         Lvl    AllPub    Inside       Gtl   \n",
       "1       RL   Pave    No      Reg         Lvl    AllPub       FR2       Gtl   \n",
       "2       RL   Pave    No      IR1         Lvl    AllPub    Inside       Gtl   \n",
       "3       RL   Pave    No      IR1         Lvl    AllPub    Corner       Gtl   \n",
       "4       RL   Pave    No      IR1         Lvl    AllPub       FR2       Gtl   \n",
       "\n",
       "  Neighborhood Condition1     ...     GarageCond PavedDrive   PoolQC  \\\n",
       "0      CollgCr       Norm     ...             TA          Y  No Pool   \n",
       "1      Veenker      Feedr     ...             TA          Y  No Pool   \n",
       "2      CollgCr       Norm     ...             TA          Y  No Pool   \n",
       "3      Crawfor       Norm     ...             TA          Y  No Pool   \n",
       "4      NoRidge       Norm     ...             TA          Y  No Pool   \n",
       "\n",
       "      Fence MiscFeature SaleType SaleCondition MSSubClass OverallQual  \\\n",
       "0  no Fence        None       WD        Normal         60           7   \n",
       "1  no Fence        None       WD        Normal         20           6   \n",
       "2  no Fence        None       WD        Normal         60           7   \n",
       "3  no Fence        None       WD       Abnorml         70           7   \n",
       "4  no Fence        None       WD        Normal         60           8   \n",
       "\n",
       "  OverallCond  \n",
       "0           5  \n",
       "1           8  \n",
       "2           5  \n",
       "3           5  \n",
       "4           5  \n",
       "\n",
       "[5 rows x 46 columns]"
      ]
     },
     "execution_count": 17,
     "metadata": {},
     "output_type": "execute_result"
    }
   ],
   "source": [
    "d6.head(5)"
   ]
  },
  {
   "cell_type": "code",
   "execution_count": 18,
   "metadata": {},
   "outputs": [
    {
     "name": "stdout",
     "output_type": "stream",
     "text": [
      "(1459, 46) (1459, 46)\n"
     ]
    }
   ],
   "source": [
    "print(d6.shape,d7.shape)"
   ]
  },
  {
   "cell_type": "code",
   "execution_count": 19,
   "metadata": {
    "collapsed": true
   },
   "outputs": [],
   "source": [
    "#Replacing the numerical features with the categorical features for train and test categorical objects.\n",
    "\n",
    "#Train Data\n",
    "d6.MSSubClass = d6.MSSubClass.replace({20 : \"SC20\", 30 : \"SC30\", 40 : \"SC40\", 45 : \"SC45\", \n",
    "                                       50 : \"SC50\", 60 : \"SC60\", 70 : \"SC70\", 75 : \"SC75\", \n",
    "                                       80 : \"SC80\", 85 : \"SC85\", 90 : \"SC90\", 120 : \"SC120\", \n",
    "                                       150 : \"SC150\", 160 : \"SC160\", 180 : \"SC180\", 190 : \"SC190\"})\n",
    "df1['MoSold'] = df1.MoSold.replace({1 : \"Jan\", 2 : \"Feb\", 3 : \"Mar\", 4 : \"Apr\", 5 : \"May\", 6 : \"Jun\",\n",
    "                                   7 : \"Jul\", 8 : \"Aug\", 9 : \"Sep\", 10 : \"Oct\", 11 : \"Nov\", 12 : \"Dec\"})\n",
    "\n",
    "#Test Data\n",
    "d7.MSSubClass = d7.MSSubClass.replace({20 : \"SC20\", 30 : \"SC30\", 40 : \"SC40\", 45 : \"SC45\", \n",
    "                                       50 : \"SC50\", 60 : \"SC60\", 70 : \"SC70\", 75 : \"SC75\", \n",
    "                                       80 : \"SC80\", 85 : \"SC85\", 90 : \"SC90\", 120 : \"SC120\", \n",
    "                                       150 : \"SC150\", 160 : \"SC160\", 180 : \"SC180\", 190 : \"SC190\"})\n",
    "df2.MoSold = df2.MoSold.replace({1 : \"Jan\", 2 : \"Feb\", 3 : \"Mar\", 4 : \"Apr\", 5 : \"May\", 6 : \"Jun\",\n",
    "                                   7 : \"Jul\", 8 : \"Aug\", 9 : \"Sep\", 10 : \"Oct\", 11 : \"Nov\", 12 : \"Dec\"})"
   ]
  },
  {
   "cell_type": "code",
   "execution_count": 20,
   "metadata": {
    "collapsed": true
   },
   "outputs": [],
   "source": [
    "#Train Data\n",
    "d6.OverallQual = d6.OverallQual.replace({ 10:'Very Excellent',\n",
    "                                               9:'Excellent',\n",
    "                                               8:'Very Good',\n",
    "                                               7:'Good',\n",
    "                                               6:'Above Average',   \n",
    "                                               5:'Average',\n",
    "                                               4:'Below Average',   \n",
    "                                               3:'Fair',\n",
    "                                               2:'Poor',\n",
    "                                               1:'Very Poor'})\n",
    "d6.OverallCond = d6.OverallCond.replace({10:'Very Excellent',\n",
    "                                               9:'Excellent',\n",
    "                                               8:'Very Good',\n",
    "                                               7:'Good',\n",
    "                                               6:'Above Average',   \n",
    "                                               5:'Average',\n",
    "                                               4:'Below Average',   \n",
    "                                               3:'Fair',\n",
    "                                               2:'Poor',\n",
    "                                               1:'Very Poor'})\n",
    "\n",
    "#Test Data\n",
    "d7.OverallQual = d7.OverallQual.replace({ 10:'Very Excellent',\n",
    "                                               9:'Excellent',\n",
    "                                               8:'Very Good',\n",
    "                                               7:'Good',\n",
    "                                               6:'Above Average',   \n",
    "                                               5:'Average',\n",
    "                                               4:'Below Average',   \n",
    "                                               3:'Fair',\n",
    "                                               2:'Poor',\n",
    "                                               1:'Very Poor'})\n",
    "d7.OverallCond = d7.OverallCond.replace({10:'Very Excellent',\n",
    "                                               9:'Excellent',\n",
    "                                               8:'Very Good',\n",
    "                                               7:'Good',\n",
    "                                               6:'Above Average',   \n",
    "                                               5:'Average',\n",
    "                                               4:'Below Average',   \n",
    "                                               3:'Fair',\n",
    "                                               2:'Poor',\n",
    "                                               1:'Very Poor'})"
   ]
  },
  {
   "cell_type": "code",
   "execution_count": 21,
   "metadata": {
    "collapsed": true
   },
   "outputs": [],
   "source": [
    "#Converting the replaced data into a Categorical variable\n",
    "\n",
    "#Train Data\n",
    "d6.MSSubClass = d6.MSSubClass.astype('category')\n",
    "d6.OverallQual = d6.OverallQual.astype('category')\n",
    "d6.OverallCond = d6['OverallCond'].astype('category')\n",
    "df1.MoSold = df1.MoSold.astype('category')\n",
    "\n",
    "#Test Data\n",
    "d7.MSSubClass = d7.MSSubClass.astype('category')\n",
    "d7.OverallQual = d7['OverallQual'].astype('category')\n",
    "d7.OverallCond = d7['OverallCond'].astype('category')\n",
    "df2.MoSold = df2.MoSold.astype('category')"
   ]
  },
  {
   "cell_type": "code",
   "execution_count": 22,
   "metadata": {
    "collapsed": true
   },
   "outputs": [],
   "source": [
    "d6 = pd.concat([df1.MoSold,d6],axis=1)\n",
    "d7 = pd.concat([df2.MoSold,d7],axis=1)"
   ]
  },
  {
   "cell_type": "code",
   "execution_count": 23,
   "metadata": {},
   "outputs": [
    {
     "name": "stdout",
     "output_type": "stream",
     "text": [
      "(1459, 47) (1459, 47)\n"
     ]
    }
   ],
   "source": [
    "print(d6.shape,d7.shape)"
   ]
  },
  {
   "cell_type": "code",
   "execution_count": 24,
   "metadata": {
    "collapsed": true
   },
   "outputs": [],
   "source": [
    "#d6.info()"
   ]
  },
  {
   "cell_type": "code",
   "execution_count": 25,
   "metadata": {},
   "outputs": [
    {
     "data": {
      "text/plain": [
       "RL         1150\n",
       "RM          218\n",
       "FV           65\n",
       "RH           16\n",
       "C (all)      10\n",
       "Name: MSZoning, dtype: int64"
      ]
     },
     "execution_count": 25,
     "metadata": {},
     "output_type": "execute_result"
    }
   ],
   "source": [
    "d6.MSZoning.value_counts()"
   ]
  },
  {
   "cell_type": "code",
   "execution_count": 26,
   "metadata": {},
   "outputs": [
    {
     "data": {
      "text/plain": [
       "RL         1114\n",
       "RM          242\n",
       "FV           74\n",
       "C (all)      15\n",
       "RH           10\n",
       "Name: MSZoning, dtype: int64"
      ]
     },
     "execution_count": 26,
     "metadata": {},
     "output_type": "execute_result"
    }
   ],
   "source": [
    "d7.MSZoning.value_counts()"
   ]
  },
  {
   "cell_type": "code",
   "execution_count": 27,
   "metadata": {
    "collapsed": true
   },
   "outputs": [],
   "source": [
    "#d6.MSSubClass.value_counts()"
   ]
  },
  {
   "cell_type": "code",
   "execution_count": 28,
   "metadata": {
    "collapsed": true
   },
   "outputs": [],
   "source": [
    "#d6.MSSubClass.value_counts()"
   ]
  },
  {
   "cell_type": "code",
   "execution_count": 29,
   "metadata": {
    "collapsed": true
   },
   "outputs": [],
   "source": [
    "#d7.OverallCond.value_counts()"
   ]
  },
  {
   "cell_type": "code",
   "execution_count": 30,
   "metadata": {
    "collapsed": true
   },
   "outputs": [],
   "source": [
    "#d6.isnull().any()"
   ]
  },
  {
   "cell_type": "code",
   "execution_count": 31,
   "metadata": {},
   "outputs": [
    {
     "data": {
      "text/plain": [
       "Index(['MoSold', 'MSZoning', 'Street', 'Alley', 'LotShape', 'LandContour',\n",
       "       'Utilities', 'LotConfig', 'LandSlope', 'Neighborhood', 'Condition1',\n",
       "       'Condition2', 'BldgType', 'HouseStyle', 'RoofStyle', 'RoofMatl',\n",
       "       'Exterior1st', 'Exterior2nd', 'MasVnrType', 'ExterQual', 'ExterCond',\n",
       "       'Foundation', 'BsmtQual', 'BsmtCond', 'BsmtExposure', 'BsmtFinType1',\n",
       "       'BsmtFinType2', 'Heating', 'HeatingQC', 'CentralAir', 'Electrical',\n",
       "       'KitchenQual', 'Functional', 'FireplaceQu', 'GarageType',\n",
       "       'GarageFinish', 'GarageQual', 'GarageCond', 'PavedDrive', 'PoolQC',\n",
       "       'Fence', 'MiscFeature', 'SaleType', 'SaleCondition', 'MSSubClass',\n",
       "       'OverallQual', 'OverallCond'],\n",
       "      dtype='object')"
      ]
     },
     "execution_count": 31,
     "metadata": {},
     "output_type": "execute_result"
    }
   ],
   "source": [
    "d6.columns"
   ]
  },
  {
   "cell_type": "code",
   "execution_count": 32,
   "metadata": {
    "collapsed": true
   },
   "outputs": [],
   "source": [
    "d6 = d6.drop(['Utilities','Condition2','RoofMatl','Exterior1st','Exterior2nd','ExterCond','Heating',\n",
    "             'Electrical','GarageQual','PoolQC','MiscFeature'],axis=1)\n",
    "d7 = d7.drop(['Utilities','Condition2','RoofMatl','Exterior1st','Exterior2nd','ExterCond','Heating',\n",
    "             'Electrical','GarageQual','PoolQC','MiscFeature'],axis=1)"
   ]
  },
  {
   "cell_type": "code",
   "execution_count": 33,
   "metadata": {},
   "outputs": [
    {
     "data": {
      "text/html": [
       "<div>\n",
       "<style>\n",
       "    .dataframe thead tr:only-child th {\n",
       "        text-align: right;\n",
       "    }\n",
       "\n",
       "    .dataframe thead th {\n",
       "        text-align: left;\n",
       "    }\n",
       "\n",
       "    .dataframe tbody tr th {\n",
       "        vertical-align: top;\n",
       "    }\n",
       "</style>\n",
       "<table border=\"1\" class=\"dataframe\">\n",
       "  <thead>\n",
       "    <tr style=\"text-align: right;\">\n",
       "      <th></th>\n",
       "      <th>MoSold_Aug</th>\n",
       "      <th>MoSold_Dec</th>\n",
       "      <th>MoSold_Feb</th>\n",
       "      <th>MoSold_Jan</th>\n",
       "      <th>MoSold_Jul</th>\n",
       "      <th>MoSold_Jun</th>\n",
       "      <th>MoSold_Mar</th>\n",
       "      <th>MoSold_May</th>\n",
       "      <th>MoSold_Nov</th>\n",
       "      <th>MoSold_Oct</th>\n",
       "      <th>...</th>\n",
       "      <th>OverallQual_Very Good</th>\n",
       "      <th>OverallQual_Very Poor</th>\n",
       "      <th>OverallCond_Average</th>\n",
       "      <th>OverallCond_Below Average</th>\n",
       "      <th>OverallCond_Excellent</th>\n",
       "      <th>OverallCond_Fair</th>\n",
       "      <th>OverallCond_Good</th>\n",
       "      <th>OverallCond_Poor</th>\n",
       "      <th>OverallCond_Very Good</th>\n",
       "      <th>OverallCond_Very Poor</th>\n",
       "    </tr>\n",
       "  </thead>\n",
       "  <tbody>\n",
       "    <tr>\n",
       "      <th>0</th>\n",
       "      <td>0</td>\n",
       "      <td>0</td>\n",
       "      <td>1</td>\n",
       "      <td>0</td>\n",
       "      <td>0</td>\n",
       "      <td>0</td>\n",
       "      <td>0</td>\n",
       "      <td>0</td>\n",
       "      <td>0</td>\n",
       "      <td>0</td>\n",
       "      <td>...</td>\n",
       "      <td>0</td>\n",
       "      <td>0</td>\n",
       "      <td>1</td>\n",
       "      <td>0</td>\n",
       "      <td>0</td>\n",
       "      <td>0</td>\n",
       "      <td>0</td>\n",
       "      <td>0</td>\n",
       "      <td>0</td>\n",
       "      <td>0</td>\n",
       "    </tr>\n",
       "    <tr>\n",
       "      <th>1</th>\n",
       "      <td>0</td>\n",
       "      <td>0</td>\n",
       "      <td>0</td>\n",
       "      <td>0</td>\n",
       "      <td>0</td>\n",
       "      <td>0</td>\n",
       "      <td>0</td>\n",
       "      <td>1</td>\n",
       "      <td>0</td>\n",
       "      <td>0</td>\n",
       "      <td>...</td>\n",
       "      <td>0</td>\n",
       "      <td>0</td>\n",
       "      <td>0</td>\n",
       "      <td>0</td>\n",
       "      <td>0</td>\n",
       "      <td>0</td>\n",
       "      <td>0</td>\n",
       "      <td>0</td>\n",
       "      <td>1</td>\n",
       "      <td>0</td>\n",
       "    </tr>\n",
       "    <tr>\n",
       "      <th>2</th>\n",
       "      <td>0</td>\n",
       "      <td>0</td>\n",
       "      <td>0</td>\n",
       "      <td>0</td>\n",
       "      <td>0</td>\n",
       "      <td>0</td>\n",
       "      <td>0</td>\n",
       "      <td>0</td>\n",
       "      <td>0</td>\n",
       "      <td>0</td>\n",
       "      <td>...</td>\n",
       "      <td>0</td>\n",
       "      <td>0</td>\n",
       "      <td>1</td>\n",
       "      <td>0</td>\n",
       "      <td>0</td>\n",
       "      <td>0</td>\n",
       "      <td>0</td>\n",
       "      <td>0</td>\n",
       "      <td>0</td>\n",
       "      <td>0</td>\n",
       "    </tr>\n",
       "    <tr>\n",
       "      <th>3</th>\n",
       "      <td>0</td>\n",
       "      <td>0</td>\n",
       "      <td>1</td>\n",
       "      <td>0</td>\n",
       "      <td>0</td>\n",
       "      <td>0</td>\n",
       "      <td>0</td>\n",
       "      <td>0</td>\n",
       "      <td>0</td>\n",
       "      <td>0</td>\n",
       "      <td>...</td>\n",
       "      <td>0</td>\n",
       "      <td>0</td>\n",
       "      <td>1</td>\n",
       "      <td>0</td>\n",
       "      <td>0</td>\n",
       "      <td>0</td>\n",
       "      <td>0</td>\n",
       "      <td>0</td>\n",
       "      <td>0</td>\n",
       "      <td>0</td>\n",
       "    </tr>\n",
       "    <tr>\n",
       "      <th>4</th>\n",
       "      <td>0</td>\n",
       "      <td>1</td>\n",
       "      <td>0</td>\n",
       "      <td>0</td>\n",
       "      <td>0</td>\n",
       "      <td>0</td>\n",
       "      <td>0</td>\n",
       "      <td>0</td>\n",
       "      <td>0</td>\n",
       "      <td>0</td>\n",
       "      <td>...</td>\n",
       "      <td>1</td>\n",
       "      <td>0</td>\n",
       "      <td>1</td>\n",
       "      <td>0</td>\n",
       "      <td>0</td>\n",
       "      <td>0</td>\n",
       "      <td>0</td>\n",
       "      <td>0</td>\n",
       "      <td>0</td>\n",
       "      <td>0</td>\n",
       "    </tr>\n",
       "  </tbody>\n",
       "</table>\n",
       "<p>5 rows × 196 columns</p>\n",
       "</div>"
      ],
      "text/plain": [
       "   MoSold_Aug  MoSold_Dec  MoSold_Feb  MoSold_Jan  MoSold_Jul  MoSold_Jun  \\\n",
       "0           0           0           1           0           0           0   \n",
       "1           0           0           0           0           0           0   \n",
       "2           0           0           0           0           0           0   \n",
       "3           0           0           1           0           0           0   \n",
       "4           0           1           0           0           0           0   \n",
       "\n",
       "   MoSold_Mar  MoSold_May  MoSold_Nov  MoSold_Oct          ...            \\\n",
       "0           0           0           0           0          ...             \n",
       "1           0           1           0           0          ...             \n",
       "2           0           0           0           0          ...             \n",
       "3           0           0           0           0          ...             \n",
       "4           0           0           0           0          ...             \n",
       "\n",
       "   OverallQual_Very Good  OverallQual_Very Poor  OverallCond_Average  \\\n",
       "0                      0                      0                    1   \n",
       "1                      0                      0                    0   \n",
       "2                      0                      0                    1   \n",
       "3                      0                      0                    1   \n",
       "4                      1                      0                    1   \n",
       "\n",
       "   OverallCond_Below Average  OverallCond_Excellent  OverallCond_Fair  \\\n",
       "0                          0                      0                 0   \n",
       "1                          0                      0                 0   \n",
       "2                          0                      0                 0   \n",
       "3                          0                      0                 0   \n",
       "4                          0                      0                 0   \n",
       "\n",
       "   OverallCond_Good  OverallCond_Poor  OverallCond_Very Good  \\\n",
       "0                 0                 0                      0   \n",
       "1                 0                 0                      1   \n",
       "2                 0                 0                      0   \n",
       "3                 0                 0                      0   \n",
       "4                 0                 0                      0   \n",
       "\n",
       "   OverallCond_Very Poor  \n",
       "0                      0  \n",
       "1                      0  \n",
       "2                      0  \n",
       "3                      0  \n",
       "4                      0  \n",
       "\n",
       "[5 rows x 196 columns]"
      ]
     },
     "execution_count": 33,
     "metadata": {},
     "output_type": "execute_result"
    }
   ],
   "source": [
    "#Since the data is categorical we are creating dummies \n",
    "\n",
    "#Train Data\n",
    "d6 = pd.get_dummies(d6, drop_first=True)\n",
    "d6.head(5)\n"
   ]
  },
  {
   "cell_type": "code",
   "execution_count": 34,
   "metadata": {},
   "outputs": [
    {
     "data": {
      "text/html": [
       "<div>\n",
       "<style>\n",
       "    .dataframe thead tr:only-child th {\n",
       "        text-align: right;\n",
       "    }\n",
       "\n",
       "    .dataframe thead th {\n",
       "        text-align: left;\n",
       "    }\n",
       "\n",
       "    .dataframe tbody tr th {\n",
       "        vertical-align: top;\n",
       "    }\n",
       "</style>\n",
       "<table border=\"1\" class=\"dataframe\">\n",
       "  <thead>\n",
       "    <tr style=\"text-align: right;\">\n",
       "      <th></th>\n",
       "      <th>MoSold_Aug</th>\n",
       "      <th>MoSold_Dec</th>\n",
       "      <th>MoSold_Feb</th>\n",
       "      <th>MoSold_Jan</th>\n",
       "      <th>MoSold_Jul</th>\n",
       "      <th>MoSold_Jun</th>\n",
       "      <th>MoSold_Mar</th>\n",
       "      <th>MoSold_May</th>\n",
       "      <th>MoSold_Nov</th>\n",
       "      <th>MoSold_Oct</th>\n",
       "      <th>...</th>\n",
       "      <th>OverallQual_Very Good</th>\n",
       "      <th>OverallQual_Very Poor</th>\n",
       "      <th>OverallCond_Average</th>\n",
       "      <th>OverallCond_Below Average</th>\n",
       "      <th>OverallCond_Excellent</th>\n",
       "      <th>OverallCond_Fair</th>\n",
       "      <th>OverallCond_Good</th>\n",
       "      <th>OverallCond_Poor</th>\n",
       "      <th>OverallCond_Very Good</th>\n",
       "      <th>OverallCond_Very Poor</th>\n",
       "    </tr>\n",
       "  </thead>\n",
       "  <tbody>\n",
       "    <tr>\n",
       "      <th>0</th>\n",
       "      <td>0</td>\n",
       "      <td>0</td>\n",
       "      <td>0</td>\n",
       "      <td>0</td>\n",
       "      <td>0</td>\n",
       "      <td>1</td>\n",
       "      <td>0</td>\n",
       "      <td>0</td>\n",
       "      <td>0</td>\n",
       "      <td>0</td>\n",
       "      <td>...</td>\n",
       "      <td>0</td>\n",
       "      <td>0</td>\n",
       "      <td>0</td>\n",
       "      <td>0</td>\n",
       "      <td>0</td>\n",
       "      <td>0</td>\n",
       "      <td>0</td>\n",
       "      <td>0</td>\n",
       "      <td>0</td>\n",
       "      <td>0</td>\n",
       "    </tr>\n",
       "    <tr>\n",
       "      <th>1</th>\n",
       "      <td>0</td>\n",
       "      <td>0</td>\n",
       "      <td>0</td>\n",
       "      <td>0</td>\n",
       "      <td>0</td>\n",
       "      <td>1</td>\n",
       "      <td>0</td>\n",
       "      <td>0</td>\n",
       "      <td>0</td>\n",
       "      <td>0</td>\n",
       "      <td>...</td>\n",
       "      <td>0</td>\n",
       "      <td>0</td>\n",
       "      <td>0</td>\n",
       "      <td>0</td>\n",
       "      <td>0</td>\n",
       "      <td>0</td>\n",
       "      <td>0</td>\n",
       "      <td>0</td>\n",
       "      <td>0</td>\n",
       "      <td>0</td>\n",
       "    </tr>\n",
       "    <tr>\n",
       "      <th>2</th>\n",
       "      <td>0</td>\n",
       "      <td>0</td>\n",
       "      <td>0</td>\n",
       "      <td>0</td>\n",
       "      <td>0</td>\n",
       "      <td>0</td>\n",
       "      <td>1</td>\n",
       "      <td>0</td>\n",
       "      <td>0</td>\n",
       "      <td>0</td>\n",
       "      <td>...</td>\n",
       "      <td>0</td>\n",
       "      <td>0</td>\n",
       "      <td>1</td>\n",
       "      <td>0</td>\n",
       "      <td>0</td>\n",
       "      <td>0</td>\n",
       "      <td>0</td>\n",
       "      <td>0</td>\n",
       "      <td>0</td>\n",
       "      <td>0</td>\n",
       "    </tr>\n",
       "    <tr>\n",
       "      <th>3</th>\n",
       "      <td>0</td>\n",
       "      <td>0</td>\n",
       "      <td>0</td>\n",
       "      <td>0</td>\n",
       "      <td>0</td>\n",
       "      <td>1</td>\n",
       "      <td>0</td>\n",
       "      <td>0</td>\n",
       "      <td>0</td>\n",
       "      <td>0</td>\n",
       "      <td>...</td>\n",
       "      <td>0</td>\n",
       "      <td>0</td>\n",
       "      <td>0</td>\n",
       "      <td>0</td>\n",
       "      <td>0</td>\n",
       "      <td>0</td>\n",
       "      <td>0</td>\n",
       "      <td>0</td>\n",
       "      <td>0</td>\n",
       "      <td>0</td>\n",
       "    </tr>\n",
       "    <tr>\n",
       "      <th>4</th>\n",
       "      <td>0</td>\n",
       "      <td>0</td>\n",
       "      <td>0</td>\n",
       "      <td>1</td>\n",
       "      <td>0</td>\n",
       "      <td>0</td>\n",
       "      <td>0</td>\n",
       "      <td>0</td>\n",
       "      <td>0</td>\n",
       "      <td>0</td>\n",
       "      <td>...</td>\n",
       "      <td>1</td>\n",
       "      <td>0</td>\n",
       "      <td>1</td>\n",
       "      <td>0</td>\n",
       "      <td>0</td>\n",
       "      <td>0</td>\n",
       "      <td>0</td>\n",
       "      <td>0</td>\n",
       "      <td>0</td>\n",
       "      <td>0</td>\n",
       "    </tr>\n",
       "  </tbody>\n",
       "</table>\n",
       "<p>5 rows × 196 columns</p>\n",
       "</div>"
      ],
      "text/plain": [
       "   MoSold_Aug  MoSold_Dec  MoSold_Feb  MoSold_Jan  MoSold_Jul  MoSold_Jun  \\\n",
       "0           0           0           0           0           0           1   \n",
       "1           0           0           0           0           0           1   \n",
       "2           0           0           0           0           0           0   \n",
       "3           0           0           0           0           0           1   \n",
       "4           0           0           0           1           0           0   \n",
       "\n",
       "   MoSold_Mar  MoSold_May  MoSold_Nov  MoSold_Oct          ...            \\\n",
       "0           0           0           0           0          ...             \n",
       "1           0           0           0           0          ...             \n",
       "2           1           0           0           0          ...             \n",
       "3           0           0           0           0          ...             \n",
       "4           0           0           0           0          ...             \n",
       "\n",
       "   OverallQual_Very Good  OverallQual_Very Poor  OverallCond_Average  \\\n",
       "0                      0                      0                    0   \n",
       "1                      0                      0                    0   \n",
       "2                      0                      0                    1   \n",
       "3                      0                      0                    0   \n",
       "4                      1                      0                    1   \n",
       "\n",
       "   OverallCond_Below Average  OverallCond_Excellent  OverallCond_Fair  \\\n",
       "0                          0                      0                 0   \n",
       "1                          0                      0                 0   \n",
       "2                          0                      0                 0   \n",
       "3                          0                      0                 0   \n",
       "4                          0                      0                 0   \n",
       "\n",
       "   OverallCond_Good  OverallCond_Poor  OverallCond_Very Good  \\\n",
       "0                 0                 0                      0   \n",
       "1                 0                 0                      0   \n",
       "2                 0                 0                      0   \n",
       "3                 0                 0                      0   \n",
       "4                 0                 0                      0   \n",
       "\n",
       "   OverallCond_Very Poor  \n",
       "0                      0  \n",
       "1                      0  \n",
       "2                      0  \n",
       "3                      0  \n",
       "4                      0  \n",
       "\n",
       "[5 rows x 196 columns]"
      ]
     },
     "execution_count": 34,
     "metadata": {},
     "output_type": "execute_result"
    }
   ],
   "source": [
    "#Test Data\n",
    "d7 = pd.get_dummies(d7, drop_first=True)\n",
    "d7.head(5)"
   ]
  },
  {
   "cell_type": "code",
   "execution_count": 35,
   "metadata": {},
   "outputs": [
    {
     "name": "stdout",
     "output_type": "stream",
     "text": [
      "(1459, 196) (1459, 196)\n"
     ]
    }
   ],
   "source": [
    "print(d6.shape,d7.shape)"
   ]
  },
  {
   "cell_type": "code",
   "execution_count": 36,
   "metadata": {},
   "outputs": [
    {
     "data": {
      "text/html": [
       "<div>\n",
       "<style>\n",
       "    .dataframe thead tr:only-child th {\n",
       "        text-align: right;\n",
       "    }\n",
       "\n",
       "    .dataframe thead th {\n",
       "        text-align: left;\n",
       "    }\n",
       "\n",
       "    .dataframe tbody tr th {\n",
       "        vertical-align: top;\n",
       "    }\n",
       "</style>\n",
       "<table border=\"1\" class=\"dataframe\">\n",
       "  <thead>\n",
       "    <tr style=\"text-align: right;\">\n",
       "      <th></th>\n",
       "      <th>LotArea</th>\n",
       "      <th>YearBuilt</th>\n",
       "      <th>YearRemodAdd</th>\n",
       "      <th>BsmtFinSF1</th>\n",
       "      <th>BsmtFinSF2</th>\n",
       "      <th>BsmtUnfSF</th>\n",
       "      <th>TotalBsmtSF</th>\n",
       "      <th>1stFlrSF</th>\n",
       "      <th>2ndFlrSF</th>\n",
       "      <th>LowQualFinSF</th>\n",
       "      <th>...</th>\n",
       "      <th>OverallQual_Very Good</th>\n",
       "      <th>OverallQual_Very Poor</th>\n",
       "      <th>OverallCond_Average</th>\n",
       "      <th>OverallCond_Below Average</th>\n",
       "      <th>OverallCond_Excellent</th>\n",
       "      <th>OverallCond_Fair</th>\n",
       "      <th>OverallCond_Good</th>\n",
       "      <th>OverallCond_Poor</th>\n",
       "      <th>OverallCond_Very Good</th>\n",
       "      <th>OverallCond_Very Poor</th>\n",
       "    </tr>\n",
       "  </thead>\n",
       "  <tbody>\n",
       "    <tr>\n",
       "      <th>0</th>\n",
       "      <td>9.042040</td>\n",
       "      <td>7.602900</td>\n",
       "      <td>7.602900</td>\n",
       "      <td>6.561031</td>\n",
       "      <td>0.0</td>\n",
       "      <td>5.017280</td>\n",
       "      <td>6.753438</td>\n",
       "      <td>6.753438</td>\n",
       "      <td>6.751101</td>\n",
       "      <td>0.0</td>\n",
       "      <td>...</td>\n",
       "      <td>0</td>\n",
       "      <td>0</td>\n",
       "      <td>1</td>\n",
       "      <td>0</td>\n",
       "      <td>0</td>\n",
       "      <td>0</td>\n",
       "      <td>0</td>\n",
       "      <td>0</td>\n",
       "      <td>0</td>\n",
       "      <td>0</td>\n",
       "    </tr>\n",
       "    <tr>\n",
       "      <th>1</th>\n",
       "      <td>9.169623</td>\n",
       "      <td>7.589336</td>\n",
       "      <td>7.589336</td>\n",
       "      <td>6.886532</td>\n",
       "      <td>0.0</td>\n",
       "      <td>5.652489</td>\n",
       "      <td>7.141245</td>\n",
       "      <td>7.141245</td>\n",
       "      <td>0.000000</td>\n",
       "      <td>0.0</td>\n",
       "      <td>...</td>\n",
       "      <td>0</td>\n",
       "      <td>0</td>\n",
       "      <td>0</td>\n",
       "      <td>0</td>\n",
       "      <td>0</td>\n",
       "      <td>0</td>\n",
       "      <td>0</td>\n",
       "      <td>0</td>\n",
       "      <td>1</td>\n",
       "      <td>0</td>\n",
       "    </tr>\n",
       "    <tr>\n",
       "      <th>2</th>\n",
       "      <td>9.328212</td>\n",
       "      <td>7.601902</td>\n",
       "      <td>7.602401</td>\n",
       "      <td>6.188264</td>\n",
       "      <td>0.0</td>\n",
       "      <td>6.075346</td>\n",
       "      <td>6.825460</td>\n",
       "      <td>6.825460</td>\n",
       "      <td>6.765039</td>\n",
       "      <td>0.0</td>\n",
       "      <td>...</td>\n",
       "      <td>0</td>\n",
       "      <td>0</td>\n",
       "      <td>1</td>\n",
       "      <td>0</td>\n",
       "      <td>0</td>\n",
       "      <td>0</td>\n",
       "      <td>0</td>\n",
       "      <td>0</td>\n",
       "      <td>0</td>\n",
       "      <td>0</td>\n",
       "    </tr>\n",
       "    <tr>\n",
       "      <th>3</th>\n",
       "      <td>9.164401</td>\n",
       "      <td>7.557995</td>\n",
       "      <td>7.586296</td>\n",
       "      <td>5.379897</td>\n",
       "      <td>0.0</td>\n",
       "      <td>6.293419</td>\n",
       "      <td>6.629363</td>\n",
       "      <td>6.869014</td>\n",
       "      <td>6.629363</td>\n",
       "      <td>0.0</td>\n",
       "      <td>...</td>\n",
       "      <td>0</td>\n",
       "      <td>0</td>\n",
       "      <td>1</td>\n",
       "      <td>0</td>\n",
       "      <td>0</td>\n",
       "      <td>0</td>\n",
       "      <td>0</td>\n",
       "      <td>0</td>\n",
       "      <td>0</td>\n",
       "      <td>0</td>\n",
       "    </tr>\n",
       "    <tr>\n",
       "      <th>4</th>\n",
       "      <td>9.565284</td>\n",
       "      <td>7.601402</td>\n",
       "      <td>7.601402</td>\n",
       "      <td>6.486161</td>\n",
       "      <td>0.0</td>\n",
       "      <td>6.196444</td>\n",
       "      <td>7.044033</td>\n",
       "      <td>7.044033</td>\n",
       "      <td>6.960348</td>\n",
       "      <td>0.0</td>\n",
       "      <td>...</td>\n",
       "      <td>1</td>\n",
       "      <td>0</td>\n",
       "      <td>1</td>\n",
       "      <td>0</td>\n",
       "      <td>0</td>\n",
       "      <td>0</td>\n",
       "      <td>0</td>\n",
       "      <td>0</td>\n",
       "      <td>0</td>\n",
       "      <td>0</td>\n",
       "    </tr>\n",
       "  </tbody>\n",
       "</table>\n",
       "<p>5 rows × 228 columns</p>\n",
       "</div>"
      ],
      "text/plain": [
       "    LotArea  YearBuilt  YearRemodAdd  BsmtFinSF1  BsmtFinSF2  BsmtUnfSF  \\\n",
       "0  9.042040   7.602900      7.602900    6.561031         0.0   5.017280   \n",
       "1  9.169623   7.589336      7.589336    6.886532         0.0   5.652489   \n",
       "2  9.328212   7.601902      7.602401    6.188264         0.0   6.075346   \n",
       "3  9.164401   7.557995      7.586296    5.379897         0.0   6.293419   \n",
       "4  9.565284   7.601402      7.601402    6.486161         0.0   6.196444   \n",
       "\n",
       "   TotalBsmtSF  1stFlrSF  2ndFlrSF  LowQualFinSF          ...            \\\n",
       "0     6.753438  6.753438  6.751101           0.0          ...             \n",
       "1     7.141245  7.141245  0.000000           0.0          ...             \n",
       "2     6.825460  6.825460  6.765039           0.0          ...             \n",
       "3     6.629363  6.869014  6.629363           0.0          ...             \n",
       "4     7.044033  7.044033  6.960348           0.0          ...             \n",
       "\n",
       "   OverallQual_Very Good  OverallQual_Very Poor  OverallCond_Average  \\\n",
       "0                      0                      0                    1   \n",
       "1                      0                      0                    0   \n",
       "2                      0                      0                    1   \n",
       "3                      0                      0                    1   \n",
       "4                      1                      0                    1   \n",
       "\n",
       "   OverallCond_Below Average  OverallCond_Excellent  OverallCond_Fair  \\\n",
       "0                          0                      0                 0   \n",
       "1                          0                      0                 0   \n",
       "2                          0                      0                 0   \n",
       "3                          0                      0                 0   \n",
       "4                          0                      0                 0   \n",
       "\n",
       "   OverallCond_Good  OverallCond_Poor  OverallCond_Very Good  \\\n",
       "0                 0                 0                      0   \n",
       "1                 0                 0                      1   \n",
       "2                 0                 0                      0   \n",
       "3                 0                 0                      0   \n",
       "4                 0                 0                      0   \n",
       "\n",
       "   OverallCond_Very Poor  \n",
       "0                      0  \n",
       "1                      0  \n",
       "2                      0  \n",
       "3                      0  \n",
       "4                      0  \n",
       "\n",
       "[5 rows x 228 columns]"
      ]
     },
     "execution_count": 36,
     "metadata": {},
     "output_type": "execute_result"
    }
   ],
   "source": [
    "#Now we are concatening the numerical data and categorical data into a single dataframe\n",
    "\n",
    "#Train Data\n",
    "train = pd.concat([Num_var_train,d6],axis=1)\n",
    "train.head(5)\n",
    "\n",
    "#Test Data\n",
    "test = pd.concat([Num_var_test,d7],axis=1)\n",
    "train.head(5)"
   ]
  },
  {
   "cell_type": "code",
   "execution_count": 37,
   "metadata": {},
   "outputs": [
    {
     "name": "stdout",
     "output_type": "stream",
     "text": [
      "(1459, 228) (1459, 228)\n"
     ]
    }
   ],
   "source": [
    "print(train.shape,test.shape)"
   ]
  },
  {
   "cell_type": "code",
   "execution_count": 38,
   "metadata": {},
   "outputs": [
    {
     "name": "stdout",
     "output_type": "stream",
     "text": [
      "<class 'pandas.core.frame.DataFrame'>\n",
      "Int64Index: 1459 entries, 0 to 1459\n",
      "Columns: 228 entries, LotArea to OverallCond_Very Poor\n",
      "dtypes: float64(32), uint8(196)\n",
      "memory usage: 655.4 KB\n"
     ]
    }
   ],
   "source": [
    "train.info()"
   ]
  },
  {
   "cell_type": "code",
   "execution_count": 39,
   "metadata": {},
   "outputs": [
    {
     "name": "stdout",
     "output_type": "stream",
     "text": [
      "<class 'pandas.core.frame.DataFrame'>\n",
      "RangeIndex: 1459 entries, 0 to 1458\n",
      "Columns: 228 entries, LotArea to OverallCond_Very Poor\n",
      "dtypes: float64(32), uint8(196)\n",
      "memory usage: 644.1 KB\n"
     ]
    }
   ],
   "source": [
    "test.info()"
   ]
  },
  {
   "cell_type": "code",
   "execution_count": 40,
   "metadata": {},
   "outputs": [
    {
     "name": "stdout",
     "output_type": "stream",
     "text": [
      "(1459, 1) (1459, 228)\n",
      "(1459, 228)\n"
     ]
    },
    {
     "name": "stderr",
     "output_type": "stream",
     "text": [
      "C:\\Users\\gteja\\Anaconda3\\lib\\site-packages\\ipykernel_launcher.py:6: FutureWarning: reshape is deprecated and will raise in a subsequent release. Please use .values.reshape(...) instead\n",
      "  \n"
     ]
    }
   ],
   "source": [
    "#Creating Training and testing split\n",
    "\n",
    "#Train Data\n",
    "y1 = np.log1p(df1['SalePrice'])\n",
    "X1 = train\n",
    "y1 = y1.reshape(1459,1)\n",
    "print(y1.shape, X1.shape)\n",
    "\n",
    "#Test Data\n",
    "test\n",
    "print(test.shape)"
   ]
  },
  {
   "cell_type": "code",
   "execution_count": 41,
   "metadata": {
    "collapsed": true
   },
   "outputs": [],
   "source": [
    "#Checking for Multicollinearity\n",
    "#from statsmodels.stats.outliers_influence import variance_inflation_factor\n",
    "#vif = pd.DataFrame()\n",
    "#vif['VIF Factor'] = [variance_inflation_factor(X1.values, i) for i in range(X1.shape[1])]\n",
    "#vif['features'] = X1.columns\n",
    "#vif.round(1)"
   ]
  },
  {
   "cell_type": "code",
   "execution_count": 42,
   "metadata": {},
   "outputs": [],
   "source": [
    "from sklearn.model_selection import cross_val_score, train_test_split\n",
    "from sklearn.linear_model import LinearRegression, RidgeCV, LassoCV, ElasticNetCV\n",
    "from sklearn.preprocessing import StandardScaler\n",
    "\n",
    "lm=LinearRegression()\n",
    "\n",
    "X1_train,X1_test,y1_train,y1_test = train_test_split(X1,y1,test_size=0.3, random_state = 101 )\n",
    "\n",
    "#sc = StandardScaler()\n",
    "#X1_train.loc[:, Num_var_train] = sc.fit_transform(X1_train.loc[:, Num_var_train])\n",
    "#X1_test.loc[:, Num_var_train] = sc.transform(X1_test.loc[:, Num_var_train])\n",
    "#test.loc[:, Num_var_test] = sc.transform(test.loc[:, Num_var_test])\n"
   ]
  },
  {
   "cell_type": "code",
   "execution_count": 60,
   "metadata": {},
   "outputs": [
    {
     "data": {
      "image/png": "[encoded data removed]",
      "text/plain": [
       "<matplotlib.figure.Figure at 0x121c89a2b00>"
      ]
     },
     "metadata": {},
     "output_type": "display_data"
    },
    {
     "data": {
      "image/png": "[encoded data removed]",
      "text/plain": [
       "<matplotlib.figure.Figure at 0x121c88ec358>"
      ]
     },
     "metadata": {},
     "output_type": "display_data"
    },
    {
     "data": {
      "text/plain": [
       "<matplotlib.axes._subplots.AxesSubplot at 0x121c8a98b38>"
      ]
     },
     "execution_count": 60,
     "metadata": {},
     "output_type": "execute_result"
    },
    {
     "data": {
      "image/png": "[encoded data removed]",
      "text/plain": [
       "<matplotlib.figure.Figure at 0x121ccb15630>"
      ]
     },
     "metadata": {},
     "output_type": "display_data"
    },
    {
     "data": {
      "image/png": "[encoded data removed]",
      "text/plain": [
       "<matplotlib.figure.Figure at 0x121ccb156a0>"
      ]
     },
     "metadata": {},
     "output_type": "display_data"
    }
   ],
   "source": [
    "model_1 = lm.fit(X1_train,y1_train)\n",
    "y_pred_train = lm.predict(X1_train)\n",
    "y_pred_test = lm.predict(X1_test)\n",
    "lm_submission = lm.predict(test)\n",
    "\n",
    "plt.figure(figsize=(10,5))\n",
    "plt.scatter(y_pred_train,y1_train, marker='.', color='blue', label = 'Training Data')\n",
    "plt.scatter(y_pred_test,y1_test, marker='.', color = 'green', label = 'Validation Data')\n",
    "plt.xlabel(\"Predicted values\")\n",
    "plt.ylabel(\"Real values\")\n",
    "plt.title('Linear Regression')\n",
    "plt.plot([10.5, 13.5], [10.5, 13.5], c = \"red\")\n",
    "plt.legend(loc = \"upper left\")\n",
    "plt.show()\n",
    "\n",
    "#Assumptions or Checks\n",
    "\n",
    "#Residual Plot: – these should show a random scattering of points, any pattern indicates a possible violation of an assumption.\n",
    "plt.figure(figsize=(10,5))\n",
    "plt.scatter(y_pred_train,y1_train - y_pred_train, marker='.', color='blue', label = 'Training Data')\n",
    "plt.scatter(y_pred_test,y1_test - y_pred_test, marker='.', color = 'green', label = 'Validation Data')\n",
    "plt.xlabel(\"Predicted values\")\n",
    "plt.ylabel(\"Residuals\")\n",
    "plt.title('Linear Regression')\n",
    "plt.hlines(y = 0, xmin = 10.5, xmax = 13.5, color = \"red\")\n",
    "plt.legend(loc = \"upper left\")\n",
    "plt.show()\n",
    "\n",
    "#Normality probability plots: – these plots should show a straight line, any pattern other than straight indicates a \n",
    "#                               possible problem of normality.\n",
    "import probscale\n",
    "fig, ax = plt.subplots(figsize=(10, 5))\n",
    "fig = probscale.probplot(y_pred_train, ax=ax, plottype='pp', bestfit=True,\n",
    "                         problabel='Percentile', datalabel='Residuals',\n",
    "                         scatter_kws=dict(label='Sale Price'),\n",
    "                         line_kws=dict(label='Best Fit Line'))\n",
    "ax.legend(loc='upper left')\n",
    "sns.despine()\n",
    "\n",
    "residual = y1_train - y_pred_train\n",
    "plt.figure(figsize=(12,5))\n",
    "sns.distplot(residual)"
   ]
  },
  {
   "cell_type": "code",
   "execution_count": 44,
   "metadata": {
    "collapsed": true
   },
   "outputs": [],
   "source": [
    "# The following class was refreneced from https://dziganto.github.io/data%20science/linear%20regression/machine%20learning/python/Linear-Regression-101-Assumptions-and-Evaluation/\n",
    "class Stats:\n",
    "    \n",
    "    def __init__(self, X1, y1, model):\n",
    "        self.data = X1\n",
    "        self.target = y1\n",
    "        self.model = model\n",
    "        ## degrees of freedom population dep. variable variance\n",
    "        self._dft = X1.shape[0] - 1   \n",
    "        ## degrees of freedom population error variance\n",
    "        self._dfe = X1.shape[0] - X1.shape[1] - 1  \n",
    "    \n",
    "    def sse(self):\n",
    "        '''returns sum of squared errors (model vs actual)'''\n",
    "        squared_errors = (self.target - self.model.predict(self.data)) ** 2\n",
    "        return np.sum(squared_errors)\n",
    "        \n",
    "    def sst(self):\n",
    "        '''returns total sum of squared errors (actual vs avg(actual))'''\n",
    "        avg_y = np.mean(self.target)\n",
    "        squared_errors = (self.target - avg_y) ** 2\n",
    "        return np.sum(squared_errors)\n",
    "    \n",
    "    def r_squared(self):\n",
    "        '''returns calculated value of r^2'''\n",
    "        return 1 - self.sse()/self.sst()\n",
    "    \n",
    "    def adj_r_squared(self):\n",
    "        '''returns calculated value of adjusted r^2'''\n",
    "        return 1 - (self.sse()/self._dfe) / (self.sst()/self._dft)"
   ]
  },
  {
   "cell_type": "code",
   "execution_count": 74,
   "metadata": {},
   "outputs": [],
   "source": [
    "# The following was referenced from https://dziganto.github.io/data%20science/linear%20regression/machine%20learning/python/Linear-Regression-101-Assumptions-and-Evaluation/\n",
    "def pretty_print_stats(stats_obj):\n",
    "    '''returns report of statistics for a given model object'''\n",
    "    items = ( ('sse:', stats_obj.sse()), ('sst:', stats_obj.sst()), \n",
    "             ('r^2:', stats_obj.r_squared()), ('adj_r^2:', stats_obj.adj_r_squared()) )\n",
    "    for item in items:\n",
    "        print('{0:8} {1:.4f}'.format(item[0], item[1]))"
   ]
  },
  {
   "cell_type": "code",
   "execution_count": 75,
   "metadata": {},
   "outputs": [
    {
     "name": "stdout",
     "output_type": "stream",
     "text": [
      "\n",
      "\n",
      " RMSE on Training set : 0.0957477665777\n",
      "\n",
      "\n",
      " RMSE on Testing set : 0.147479259223\n",
      "\n",
      "\n",
      " Model Score:  86.2539499 \n",
      "\n",
      "\n",
      "sse:     9.3602\n",
      "sst:     160.5058\n",
      "r^2:     0.9417\n",
      "adj_r^2: 0.9249\n"
     ]
    }
   ],
   "source": [
    "from sklearn import metrics\n",
    "\n",
    "print('\\n'*2,\"RMSE on Training set :\",(np.sqrt(metrics.mean_squared_error(y1_train,y_pred_train))))\n",
    "\n",
    "print('\\n'*2,\"RMSE on Testing set :\",(np.sqrt(metrics.mean_squared_error(y1_test,y_pred_test))))\n",
    "\n",
    "print('\\n'*2,\"Model Score: \", model_1.score(X1_test,y1_test)*100,'\\n'*2)\n",
    "\n",
    "s1 = Stats(X1_train, y1_train, model_1)\n",
    "pretty_print_stats(s1)"
   ]
  },
  {
   "cell_type": "code",
   "execution_count": 52,
   "metadata": {},
   "outputs": [
    {
     "name": "stdout",
     "output_type": "stream",
     "text": [
      "(1021, 1) (438, 1)\n"
     ]
    }
   ],
   "source": [
    "print(y_pred_train.shape,y_pred_test.shape)"
   ]
  },
  {
   "cell_type": "code",
   "execution_count": null,
   "metadata": {},
   "outputs": [],
   "source": [
    "#from sklearn.pipeline import Pipeline\n",
    "#from sklearn.preprocessing import PolynomialFeatures\n",
    "#poly = Pipeline([('poly', PolynomialFeatures(degree=2)),\n",
    "#('linear', LinearRegression(fit_intercept=False))])\n",
    "#poly.fit(X1_train, y1_train)\n",
    "#pred_train = poly.predict(X1_train)\n",
    "#pred_test = poly.predict(X1_test)\n",
    "#Pred_submission = poly.predict(test)\n"
   ]
  },
  {
   "cell_type": "code",
   "execution_count": null,
   "metadata": {},
   "outputs": [],
   "source": [
    "#PCA can be used to reduce the number of dimensions used to predict the Sale Price (Target Variable)\n",
    "#from sklearn.decomposition import PCA\n",
    "#pca=PCA()\n",
    "#pca.fit_transform(X1)\n",
    "#ratio=pca.explained_variance_ratio_\n",
    "#plt.figure(figsize=(10,10))    \n",
    "#plt.plot(range(1,229),ratio,'-o',color='blue',alpha=0.75)\n",
    "#plt.ylim(0,1)\n",
    "#plt.xlim(0,10)\n",
    "#plt.grid(axis=\"both\")\n",
    "#plt.xlabel('Principal Component')\n",
    "#plt.ylabel('percentages of variance in data set')\n",
    "#plt.show()"
   ]
  },
  {
   "cell_type": "code",
   "execution_count": 61,
   "metadata": {},
   "outputs": [
    {
     "name": "stdout",
     "output_type": "stream",
     "text": [
      "Best alpha : 6.0\n",
      "Try again for more precision with alphas centered around 6.0\n",
      "Best alpha : 7.8\n"
     ]
    },
    {
     "data": {
      "image/png": "[encoded data removed]",
      "text/plain": [
       "<matplotlib.figure.Figure at 0x121ccfb3a90>"
      ]
     },
     "metadata": {},
     "output_type": "display_data"
    },
    {
     "data": {
      "image/png": "[encoded data removed]",
      "text/plain": [
       "<matplotlib.figure.Figure at 0x121ccd7cf28>"
      ]
     },
     "metadata": {},
     "output_type": "display_data"
    },
    {
     "data": {
      "text/plain": [
       "<matplotlib.axes._subplots.AxesSubplot at 0x121cccd97f0>"
      ]
     },
     "execution_count": 61,
     "metadata": {},
     "output_type": "execute_result"
    },
    {
     "data": {
      "image/png": "[encoded data removed]",
      "text/plain": [
       "<matplotlib.figure.Figure at 0x121cd03a710>"
      ]
     },
     "metadata": {},
     "output_type": "display_data"
    },
    {
     "data": {
      "image/png": "[encoded data removed]",
      "text/plain": [
       "<matplotlib.figure.Figure at 0x121cd03ae10>"
      ]
     },
     "metadata": {},
     "output_type": "display_data"
    }
   ],
   "source": [
    "# 2* Ridge\n",
    "ridge = RidgeCV(alphas = [0.01, 0.03, 0.06, 0.1, 0.3, 0.6, 1, 3, 6, 10, 30, 60])\n",
    "ridge.fit(X1_train, y1_train)\n",
    "alpha = ridge.alpha_\n",
    "print(\"Best alpha :\", alpha)\n",
    "\n",
    "print(\"Try again for more precision with alphas centered around \" + str(alpha))\n",
    "ridge = RidgeCV(alphas = [alpha * .6, alpha * .65, alpha * .7, alpha * .75, alpha * .8, alpha * .85, \n",
    "                          alpha * .9, alpha * .95, alpha, alpha * 1.05, alpha * 1.1, alpha * 1.15,\n",
    "                          alpha * 1.25, alpha * 1.3, alpha * 1.35, alpha * 1.4], \n",
    "                cv = 10)\n",
    "model_2 = ridge.fit(X1_train, y1_train)\n",
    "alpha = ridge.alpha_\n",
    "print(\"Best alpha :\", alpha)\n",
    "\n",
    "y_pred_train_rdg = ridge.predict(X1_train)\n",
    "y_pred_test_rdg = ridge.predict(X1_test)\n",
    "rdg_submission = ridge.predict(test)\n",
    "\n",
    "# Plot predictions\n",
    "plt.scatter(y_pred_train_rdg, y1_train, c = \"blue\", marker = \".\", label = \"Training data\")\n",
    "plt.scatter(y_pred_test_rdg, y1_test, c = \"green\", marker = \".\", label = \"Validation data\")\n",
    "plt.title(\"Linear regression with Ridge regularization\")\n",
    "plt.xlabel(\"Predicted values\")\n",
    "plt.ylabel(\"Real values\")\n",
    "plt.plot([10.5, 13.5], [10.5, 13.5], c = \"red\")\n",
    "plt.show()\n",
    "\n",
    "# Plot residuals\n",
    "plt.scatter(y_pred_train_rdg, y1_train - y_pred_train_rdg, c = \"blue\", marker = \".\", label = \"Training data\")\n",
    "plt.scatter(y_pred_test_rdg, y1_test - y_pred_test_rdg, c = \"green\", marker = \".\", label = \"Validation data\")\n",
    "plt.title(\"Linear regression with Ridge regularization\")\n",
    "plt.xlabel(\"Predicted values\")\n",
    "plt.ylabel(\"Residuals\")\n",
    "plt.hlines(y = 0, xmin = 10.5, xmax = 13.5, color = \"red\")\n",
    "plt.show()\n",
    "\n",
    "#Normality probability plots: – these plots should show a straight line, any pattern other than straight indicates a \n",
    "#                               possible problem of normality.\n",
    "import probscale\n",
    "fig, ax = plt.subplots(figsize=(10, 5))\n",
    "fig = probscale.probplot(y_pred_train_rdg, ax=ax, plottype='pp', bestfit=True,\n",
    "                         problabel='Percentile', datalabel='Residuals',\n",
    "                         scatter_kws=dict(label='Sale Price'),\n",
    "                         line_kws=dict(label='Best Fit Line'))\n",
    "ax.legend(loc='upper left')\n",
    "sns.despine()\n",
    "\n",
    "residual = y1_train - y_pred_train_rdg\n",
    "plt.figure(figsize=(12,5))\n",
    "sns.distplot(residual)"
   ]
  },
  {
   "cell_type": "code",
   "execution_count": 73,
   "metadata": {},
   "outputs": [
    {
     "name": "stdout",
     "output_type": "stream",
     "text": [
      "\n",
      "\n",
      " RMSE on Training set : 0.103964550864\n",
      "\n",
      "\n",
      " RMSE on Testing set : 0.144682053518\n",
      "\n",
      "\n",
      " Model Score:  86.770441354 \n",
      "\n",
      "\n",
      "sse:     11.0356\n",
      "sst:     160.5058\n",
      "r^2:     0.9312\n",
      "adj_r^2: 0.9115\n"
     ]
    }
   ],
   "source": [
    "print('\\n'*2,\"RMSE on Training set :\",(np.sqrt(metrics.mean_squared_error(y1_train,y_pred_train_rdg))))\n",
    "\n",
    "print('\\n'*2,\"RMSE on Testing set :\",(np.sqrt(metrics.mean_squared_error(y1_test,y_pred_test_rdg))))\n",
    "\n",
    "print('\\n'*2,\"Model Score: \", model_2.score(X1_test,y1_test)*100,'\\n'*2)\n",
    "\n",
    "s2 = Stats(X1_train, y1_train, model_2)\n",
    "pretty_print_stats(s2)"
   ]
  },
  {
   "cell_type": "code",
   "execution_count": null,
   "metadata": {},
   "outputs": [],
   "source": [
    "#ridge.coef_ = ridge.coef_.reshape(228)\n",
    "#ridge.coef_.shape\n",
    "# Plot important coefficients\n",
    "coefs = pd.Series(ridge.coef_, index = X1_train.columns)\n",
    "print(\"Ridge picked \" + str(sum(coefs != 0)) + \" features and eliminated the other \" +  \\\n",
    "      str(sum(coefs == 0)) + \" features\")\n",
    "imp_coefs = pd.concat([coefs.sort_values().head(10),\n",
    "                     coefs.sort_values().tail(10)])\n",
    "imp_coefs.plot(kind = \"barh\")\n",
    "plt.title(\"Coefficients in the Ridge Model\")\n",
    "plt.show()"
   ]
  },
  {
   "cell_type": "code",
   "execution_count": 64,
   "metadata": {},
   "outputs": [
    {
     "name": "stdout",
     "output_type": "stream",
     "text": [
      "(1021, 228) (1021, 1) (438, 228) (438, 1) (1021,) (1021, 1)\n"
     ]
    }
   ],
   "source": [
    "print(X1_train.shape, y1_train.shape,X1_test.shape,y1_test.shape,y_train_las.shape,y_pred_train.shape)"
   ]
  },
  {
   "cell_type": "code",
   "execution_count": 66,
   "metadata": {},
   "outputs": [
    {
     "name": "stderr",
     "output_type": "stream",
     "text": [
      "C:\\Users\\gteja\\Anaconda3\\lib\\site-packages\\sklearn\\linear_model\\coordinate_descent.py:1082: DataConversionWarning: A column-vector y was passed when a 1d array was expected. Please change the shape of y to (n_samples, ), for example using ravel().\n",
      "  y = column_or_1d(y, warn=True)\n"
     ]
    },
    {
     "name": "stdout",
     "output_type": "stream",
     "text": [
      "Best alpha : 0.0006\n",
      "Try again for more precision with alphas centered around 0.0006\n"
     ]
    },
    {
     "name": "stderr",
     "output_type": "stream",
     "text": [
      "C:\\Users\\gteja\\Anaconda3\\lib\\site-packages\\sklearn\\linear_model\\coordinate_descent.py:1082: DataConversionWarning: A column-vector y was passed when a 1d array was expected. Please change the shape of y to (n_samples, ), for example using ravel().\n",
      "  y = column_or_1d(y, warn=True)\n"
     ]
    },
    {
     "name": "stdout",
     "output_type": "stream",
     "text": [
      "Best alpha : 0.00048\n"
     ]
    },
    {
     "data": {
      "image/png": "[encoded data removed]",
      "text/plain": [
       "<matplotlib.figure.Figure at 0x121c8a0b588>"
      ]
     },
     "metadata": {},
     "output_type": "display_data"
    },
    {
     "data": {
      "image/png": "[encoded data removed]",
      "text/plain": [
       "<matplotlib.figure.Figure at 0x121ca932588>"
      ]
     },
     "metadata": {},
     "output_type": "display_data"
    },
    {
     "data": {
      "text/plain": [
       "<matplotlib.axes._subplots.AxesSubplot at 0x121ce206d68>"
      ]
     },
     "execution_count": 66,
     "metadata": {},
     "output_type": "execute_result"
    },
    {
     "data": {
      "image/png": "[encoded data removed]",
      "text/plain": [
       "<matplotlib.figure.Figure at 0x121cce65eb8>"
      ]
     },
     "metadata": {},
     "output_type": "display_data"
    },
    {
     "data": {
      "image/png": "[encoded data removed]",
      "text/plain": [
       "<matplotlib.figure.Figure at 0x121ce200208>"
      ]
     },
     "metadata": {},
     "output_type": "display_data"
    }
   ],
   "source": [
    "# 3* Lasso\n",
    "lasso = LassoCV(alphas = [0.0001, 0.0003, 0.0006, 0.001, 0.003, 0.006, 0.01, 0.03, 0.06, 0.1, \n",
    "                          0.3, 0.6, 1], \n",
    "                max_iter = 50000, cv = 10)\n",
    "lasso.fit(X1_train, y1_train)\n",
    "alpha = lasso.alpha_\n",
    "print(\"Best alpha :\", alpha)\n",
    "\n",
    "print(\"Try again for more precision with alphas centered around \" + str(alpha))\n",
    "lasso = LassoCV(alphas = [alpha * .6, alpha * .65, alpha * .7, alpha * .75, alpha * .8, \n",
    "                          alpha * .85, alpha * .9, alpha * .95, alpha, alpha * 1.05, \n",
    "                          alpha * 1.1, alpha * 1.15, alpha * 1.25, alpha * 1.3, alpha * 1.35, \n",
    "                          alpha * 1.4], \n",
    "                max_iter = 50000, cv = 10)\n",
    "model_3 = lasso.fit(X1_train, y1_train)\n",
    "alpha = lasso.alpha_\n",
    "print(\"Best alpha :\", alpha)\n",
    "\n",
    "y_pred_train_las = lasso.predict(X1_train)\n",
    "y_pred_test_las = lasso.predict(X1_test)\n",
    "las_submission = lasso.predict(test)\n",
    "y_pred_train_las = y_pred_train_las.reshape(-1,1)\n",
    "y_pred_test_las = y_pred_test_las.reshape(-1,1)\n",
    "\n",
    "# Plot predictions\n",
    "plt.scatter(y_pred_train_las, y1_train, c = \"blue\", marker = \".\", label = \"Training data\")\n",
    "plt.scatter(y_pred_test_las, y1_test, c = \"green\", marker = \".\", label = \"Validation data\")\n",
    "plt.title(\"Linear regression with Lasso regularization\")\n",
    "plt.xlabel(\"Predicted values\")\n",
    "plt.ylabel(\"Real values\")\n",
    "plt.legend(loc = \"upper left\")\n",
    "plt.plot([10.5, 13.5], [10.5, 13.5], c = \"red\")\n",
    "plt.show()\n",
    "\n",
    "# Plot residuals\n",
    "plt.scatter(y_pred_train_las, y1_train - y_pred_train_las, c = \"blue\", marker = \".\", label = \"Training data\")\n",
    "plt.scatter(y_pred_test_las, y1_test - y_pred_test_las, c = \"green\", marker = \".\", label = \"Validation data\")\n",
    "plt.title(\"Linear regression with Lasso regularization\")\n",
    "plt.xlabel(\"Predicted values\")\n",
    "plt.ylabel(\"Residuals\")\n",
    "plt.legend(loc = \"upper left\")\n",
    "plt.hlines(y = 0, xmin = 10.5, xmax = 13.5, color = \"red\")\n",
    "plt.show()\n",
    "\n",
    "#Normality probability plots: – these plots should show a straight line, any pattern other than straight indicates a \n",
    "#                               possible problem of normality.\n",
    "import probscale\n",
    "fig, ax = plt.subplots(figsize=(10, 5))\n",
    "fig = probscale.probplot(y_pred_train_las, ax=ax, plottype='pp', bestfit=True,\n",
    "                         problabel='Percentile', datalabel='Residuals',\n",
    "                         scatter_kws=dict(label='Sale Price'),\n",
    "                         line_kws=dict(label='Best Fit Line'))\n",
    "ax.legend(loc='upper left')\n",
    "sns.despine()\n",
    "\n",
    "residual = y1_train - y_pred_train_las\n",
    "plt.figure(figsize=(12,5))\n",
    "sns.distplot(residual)"
   ]
  },
  {
   "cell_type": "code",
   "execution_count": 72,
   "metadata": {},
   "outputs": [
    {
     "name": "stdout",
     "output_type": "stream",
     "text": [
      "\n",
      "\n",
      " RMSE on Training set : 0.106786669136\n",
      "\n",
      "\n",
      " RMSE on Testing set : 0.141630090427\n",
      "\n",
      "\n",
      " Model Score:  87.3226905263 \n",
      "\n",
      "\n",
      "sse:     311390.3274\n",
      "sst:     160.5058\n",
      "r^2:     -1939.0565\n",
      "adj_r^2: -2497.5576\n"
     ]
    }
   ],
   "source": [
    "print('\\n'*2,\"RMSE on Training set :\",(np.sqrt(metrics.mean_squared_error(y1_train,y_pred_train_las))))\n",
    "\n",
    "print('\\n'*2,\"RMSE on Testing set :\",(np.sqrt(metrics.mean_squared_error(y1_test,y_pred_test_las))))\n",
    "\n",
    "print('\\n'*2,\"Model Score: \", model_3.score(X1_test,y1_test)*100,'\\n'*2)\n",
    "\n",
    "s3 = Stats(X1_train, y1_train, model_3)\n",
    "pretty_print_stats(s3)"
   ]
  },
  {
   "cell_type": "code",
   "execution_count": null,
   "metadata": {
    "collapsed": true
   },
   "outputs": [],
   "source": []
  }
 ],
 "metadata": {
  "kernelspec": {
   "display_name": "Python 3",
   "language": "python",
   "name": "python3"
  },
  "language_info": {
   "codemirror_mode": {
    "name": "ipython",
    "version": 3
   },
   "file_extension": ".py",
   "mimetype": "text/x-python",
   "name": "python",
   "nbconvert_exporter": "python",
   "pygments_lexer": "ipython3",
   "version": "3.6.1"
  }
 },
 "nbformat": 4,
 "nbformat_minor": 2
}
